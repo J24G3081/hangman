{
  "cells": [
    {
      "cell_type": "markdown",
      "source": [
        "# グラフ"
      ],
      "metadata": {
        "id": "BIrWNHZR32BH"
      },
      "id": "BIrWNHZR32BH"
    },
    {
      "cell_type": "markdown",
      "source": [],
      "metadata": {
        "id": "9t8dudtB32BN"
      },
      "id": "9t8dudtB32BN"
    },
    {
      "cell_type": "markdown",
      "source": [
        "## グラフ：問題にチャレンジする前に"
      ],
      "metadata": {
        "id": "STVmgVhm32BO"
      },
      "id": "STVmgVhm32BO"
    },
    {
      "cell_type": "markdown",
      "source": [
        "\n",
        "Pythonにはnetworkxというグラフのためのライブラリがある。とても強力なライブラリだから，基本的な使い方は知っておくべきなのだが，Aizu Online Judgeではその練習ができない。その分はAtCoderの問題で補うことにする。\n",
        "\n",
        "-   手軽なのがいい人→♥networkxを使う\n",
        "-   教科書どおりがいい人→♦networkxを使わない\n",
        "-   余裕がある人→♥♦\n",
        "\n",
        "この資料で扱う問題で使う，networkxの要素は表のとおり。\n",
        "\n",
        "| 要素                                               | 機能                  |\n",
        "|----------------------------------------------------|-----------------------|\n",
        "| `G = nx.Graph()`                                   | 無向グラフの作成      |\n",
        "| `G = nx.DiGraph()`                                 | 有向グラフの作成      |\n",
        "| `G[u]`                                             | ノード`u`の隣接ノード |\n",
        "| `G.add_nodes_from(...)`                            | ノードのリストの追加  |\n",
        "| `G.add_edges_from(...)`                            | エッジのリストの追加  |\n",
        "| `G.add_edge(u, v)`                                 | エッジの追加          |\n",
        "| `G.degree`                                         | 各ノードの次数        |\n",
        "| `nx.adjacency_matrix(G)`                           | 隣接行列              |\n",
        "| `nx.is_connected(G)`                               | 連結である            |\n",
        "| `nx.dfs_preorder_nodes(G, source)`                 | 深さ優先探索          |\n",
        "| `nx.bfs_edges(G, source)`                          | 幅優先探索            |\n",
        "| `nx.draw(G, with_labels=True)`                     | グラフの描画          |\n",
        "| `nx.single_source_shortest_path_length(G, source)` | 単一始点最短経路長    |\n",
        "| `nx.utils.UnionFind(...)`                          | Union-Find            |"
      ],
      "metadata": {
        "id": "hhnTpU5f32BO"
      },
      "id": "hhnTpU5f32BO"
    },
    {
      "cell_type": "markdown",
      "source": [
        "### 無向グラフ"
      ],
      "metadata": {
        "id": "RMKH0ljO32BP"
      },
      "id": "RMKH0ljO32BP"
    },
    {
      "cell_type": "code",
      "execution_count": null,
      "metadata": {
        "id": "ndrOJsbY32BQ"
      },
      "outputs": [],
      "source": [
        "import networkx as nx\n",
        "\n",
        "G = nx.Graph()\n",
        "G.add_edges_from([(1, 2), (1, 2), (1, 4), (2, 4), (4, 3)])\n",
        "nx.draw(G, with_labels=True, node_color='greenyellow')"
      ],
      "id": "ndrOJsbY32BQ"
    },
    {
      "cell_type": "code",
      "execution_count": null,
      "metadata": {
        "id": "QWdRNRc232BS"
      },
      "outputs": [],
      "source": [
        "# 2の隣接ノード\n",
        "print(list(G[2]))\n",
        "\n",
        "# 各ノードの次数\n",
        "print(G.degree)"
      ],
      "id": "QWdRNRc232BS"
    },
    {
      "cell_type": "markdown",
      "source": [
        "### 有向グラフ"
      ],
      "metadata": {
        "id": "g6cPaorz32BS"
      },
      "id": "g6cPaorz32BS"
    },
    {
      "cell_type": "code",
      "execution_count": 7,
      "metadata": {
        "colab": {
          "base_uri": "https://localhost:8080/",
          "height": 516
        },
        "id": "y4_DelLl32BT",
        "outputId": "3b1fd926-f70e-4034-b3a8-35592671d064"
      },
      "outputs": [
        {
          "output_type": "display_data",
          "data": {
            "text/plain": [
              "<Figure size 640x480 with 1 Axes>"
            ],
            "image/png": "[encoded data removed]"
          },
          "metadata": {}
        }
      ],
      "source": [
        "import networkx as nx\n",
        "\n",
        "G = nx.DiGraph()\n",
        "G.add_edges_from([(1, 2), (1, 2), (1, 4), (2, 4), (4, 3)])\n",
        "nx.draw(G, with_labels=True, node_color='greenyellow')"
      ],
      "id": "y4_DelLl32BT"
    },
    {
      "cell_type": "markdown",
      "source": [
        "### グラフの描画"
      ],
      "metadata": {
        "id": "x4CoDCzW32BT"
      },
      "id": "x4CoDCzW32BT"
    },
    {
      "cell_type": "markdown",
      "source": [
        "\n",
        "ファイルからグラフを構築し描画する関数を作っておく。\n",
        "\n",
        "対応するパターン\n",
        "\n",
        "| ファイル名  | 関数             | グラフ | パターン     | 問題                                                                                                                                                                                                                                                          |\n",
        "|---------------|---------------|---------------|---------------|---------------|\n",
        "| input-a.dat | `draw_pattern_a` | 無向   | エッジ/行    | [A61](https://atcoder.jp/contests/tessoku-book/tasks/tessoku_book_bi), [B61](https://atcoder.jp/contests/tessoku-book/tasks/tessoku_book_eh)                                                                                                                  |\n",
        "| input-b.dat | `draw_pattern_b` | 有向   | 隣接リスト   | [ALDS1_11_A](https://onlinejudge.u-aizu.ac.jp/courses/lesson/1/ALDS1/11/ALDS1_11_A), [ALDS1_11_B](https://onlinejudge.u-aizu.ac.jp/courses/lesson/1/ALDS1/11/ALDS1_11_B), [ALDS1_11_C](https://onlinejudge.u-aizu.ac.jp/courses/lesson/1/ALDS1/11/ALDS1_11_C) |\n",
        "| input-c.dat | `draw_pattern_c` | 無向   | エッジの追加 | [A66](https://atcoder.jp/contests/tessoku-book/tasks/tessoku_book_bn)                                                                                                                                                                                         |\n",
        "| input-d.dat | `draw_pattern_d` | 無向   | 連結成分     | [ALDS1_11_D](https://onlinejudge.u-aizu.ac.jp/courses/lesson/1/ALDS1/11/ALDS1_11_D)                                                                                                                                                                           |\n",
        "\n",
        "このコードはグラフの可視化のためのものである。問題を解くだけなら必要ない。"
      ],
      "metadata": {
        "id": "c2nBlRtU32BU"
      },
      "id": "c2nBlRtU32BU"
    },
    {
      "cell_type": "code",
      "execution_count": null,
      "metadata": {
        "id": "5hSTz9rn32BU"
      },
      "outputs": [],
      "source": [
        "import networkx as nx\n",
        "import matplotlib.pyplot as plt\n",
        "\n",
        "def plot(G,pos=None):\n",
        "  plt.figure(figsize=(6, 4))\n",
        "  nx.draw(G, pos, with_labels=True, node_color='greenyellow');\n",
        "  plt.show();\n",
        "\n",
        "def draw_pattern_a():\n",
        "  with open('input-a.dat', 'r') as f:\n",
        "    input = f.readline # 標準入力の場合と合わせるため\n",
        "    n, m = map(int, input().split())\n",
        "    G = nx.Graph()\n",
        "    G.add_nodes_from(range(1, n + 1)) # エッジをもたないノードがあり得るため\n",
        "    for _ in range(m):\n",
        "      u, v = map(int, input().split())\n",
        "      G.add_edge(u, v)\n",
        "    plot(G)\n",
        "\n",
        "def draw_pattern_b():\n",
        "  with open('input-b.dat', 'r') as f:\n",
        "    input = f.readline\n",
        "    n = int(input())\n",
        "    G = nx.DiGraph()\n",
        "    for _ in range(n):\n",
        "      u, k, *x = map(int, input().split())\n",
        "      for v in x: G.add_edge(u, v)\n",
        "    plot(G)\n",
        "\n",
        "def draw_pattern_c():\n",
        "  with open('input-c.dat', 'r') as f:\n",
        "    input = f.readline\n",
        "    n, q = map(int, input().split())\n",
        "    G = nx.Graph()\n",
        "    G.add_nodes_from(range(1, n + 1))\n",
        "    pos = nx.spring_layout(G)\n",
        "    for _ in range(q):\n",
        "      t, u, v = map(int, input().split())\n",
        "      if t == 1:\n",
        "        G.add_edge(u, v)\n",
        "        plot(G, pos)\n",
        "\n",
        "def draw_pattern_d():\n",
        "  with open('input-d.dat', 'r') as f:\n",
        "    input = f.readline\n",
        "    n, m = map(int, input().split())\n",
        "    G = nx.Graph()\n",
        "    G.add_nodes_from(range(n))\n",
        "    for _ in range(m):\n",
        "      u, v = map(int, input().split())\n",
        "      G.add_edge(u, v)\n",
        "    plot(G)"
      ],
      "id": "5hSTz9rn32BU"
    },
    {
      "cell_type": "markdown",
      "source": [
        "## グラフの表現"
      ],
      "metadata": {
        "id": "lvXa2ZnI32BV"
      },
      "id": "lvXa2ZnI32BV"
    },
    {
      "cell_type": "markdown",
      "source": [],
      "metadata": {
        "id": "bOb43Sf132BV"
      },
      "id": "bOb43Sf132BV"
    },
    {
      "cell_type": "markdown",
      "source": [
        "### ♥networkxを使う（エッジ→隣接リスト）"
      ],
      "metadata": {
        "id": "yifWaQiG32BV"
      },
      "id": "yifWaQiG32BV"
    },
    {
      "cell_type": "markdown",
      "source": [
        "\n",
        "♥問題：[A61 - Adjacent Vertices](https://atcoder.jp/contests/tessoku-book/tasks/tessoku_book_bi)"
      ],
      "metadata": {
        "id": "ChZpdCdh32BV"
      },
      "id": "ChZpdCdh32BV"
    },
    {
      "cell_type": "code",
      "execution_count": 8,
      "metadata": {
        "colab": {
          "base_uri": "https://localhost:8080/"
        },
        "id": "SZj9qUZ632BV",
        "outputId": "8716284d-05ca-4af7-e948-629929c199ac"
      },
      "outputs": [
        {
          "output_type": "stream",
          "name": "stdout",
          "text": [
            "Writing input-a.dat\n"
          ]
        }
      ],
      "source": [
        "%%writefile input-a.dat\n",
        "5 4\n",
        "1 2\n",
        "2 3\n",
        "3 4\n",
        "3 5"
      ],
      "id": "SZj9qUZ632BV"
    },
    {
      "cell_type": "code",
      "execution_count": 9,
      "metadata": {
        "colab": {
          "base_uri": "https://localhost:8080/",
          "height": 141
        },
        "id": "1uyYwfeV32BV",
        "outputId": "d43e146b-02f6-4764-bf24-abbd8f956b04"
      },
      "outputs": [
        {
          "output_type": "error",
          "ename": "NameError",
          "evalue": "name 'draw_pattern_a' is not defined",
          "traceback": [
            "\u001b[0;31m---------------------------------------------------------------------------\u001b[0m",
            "\u001b[0;31mNameError\u001b[0m                                 Traceback (most recent call last)",
            "\u001b[0;32m/tmp/ipython-input-9-2414225850.py\u001b[0m in \u001b[0;36m<cell line: 0>\u001b[0;34m()\u001b[0m\n\u001b[0;32m----> 1\u001b[0;31m \u001b[0mdraw_pattern_a\u001b[0m\u001b[0;34m(\u001b[0m\u001b[0;34m)\u001b[0m\u001b[0;34m\u001b[0m\u001b[0;34m\u001b[0m\u001b[0m\n\u001b[0m",
            "\u001b[0;31mNameError\u001b[0m: name 'draw_pattern_a' is not defined"
          ]
        }
      ],
      "source": [
        "draw_pattern_a()"
      ],
      "id": "1uyYwfeV32BV"
    },
    {
      "cell_type": "code",
      "execution_count": 10,
      "metadata": {
        "colab": {
          "base_uri": "https://localhost:8080/"
        },
        "id": "whQg7uS_32BW",
        "outputId": "33c86368-f417-4cce-be96-933c7cad107e"
      },
      "outputs": [
        {
          "output_type": "stream",
          "name": "stdout",
          "text": [
            "Overwriting test.py\n"
          ]
        }
      ],
      "source": [
        "%%writefile test.py\n",
        "import networkx as nx\n",
        "\n",
        "# 無向グラフを作る。\n",
        "n, m = map(int, input().split())\n",
        "G = nx.Graph()\n",
        "G.add_nodes_from(range(1, n + 1)) # エッジを追加するだけでは足りない。\n",
        "for _ in range(m):\n",
        "  u, v = map(int, input().split())\n",
        "  G.add_edge(u, v)\n",
        "\n",
        "# 隣接リストを出力する。\n",
        "for u in range(1, n + 1):\n",
        "  print(f'{u}: {{{\", \".join(map(str, G[u]))}}}')\n"
      ],
      "id": "whQg7uS_32BW"
    },
    {
      "cell_type": "code",
      "execution_count": null,
      "metadata": {
        "id": "N_eDRQeq32BW"
      },
      "outputs": [],
      "source": [
        "!python3 test.py < input-a.dat"
      ],
      "id": "N_eDRQeq32BW"
    },
    {
      "cell_type": "markdown",
      "source": [
        "問題：[B61 - Influencer](https://atcoder.jp/contests/tessoku-book/tasks/tessoku_book_eh)\n",
        "\n",
        "A61と同じデータを使う。グラフの構築方法は同じ。`G.degree`で次数を取得し，最大のものを出力する。\n",
        "\n",
        "準備`(数0, 数1)`のリストから，数1が最大のものを取得する方法を確認する。数1を取り出す関数「`lambda x: x[1]`」を`max`に渡せばよい。"
      ],
      "metadata": {
        "id": "ZwuBeVxB32BW"
      },
      "id": "ZwuBeVxB32BW"
    },
    {
      "cell_type": "code",
      "execution_count": null,
      "metadata": {
        "id": "KKtR6Eby32BW"
      },
      "outputs": [],
      "source": [
        "data = [(1, 2), (2, 5), (3, 3), (4, 0)]\n",
        "max(data, key = lambda x: x[1])"
      ],
      "id": "KKtR6Eby32BW"
    },
    {
      "cell_type": "markdown",
      "source": [
        "この方法を使って，`(ノード, 次数)`のリストから次数が最大のノードを取得する。"
      ],
      "metadata": {
        "id": "vCIxo34h32BW"
      },
      "id": "vCIxo34h32BW"
    },
    {
      "cell_type": "code",
      "execution_count": null,
      "metadata": {
        "id": "J_g82Ao_32BW"
      },
      "outputs": [],
      "source": [
        "%%writefile test.py\n",
        "# 出力以外はA61と同じ\n",
        "\n",
        "# 結果の出力\n",
        "print(max(G.degree, key=lambda x: x[1])[0])"
      ],
      "id": "J_g82Ao_32BW"
    },
    {
      "cell_type": "code",
      "execution_count": null,
      "metadata": {
        "id": "_4AmKrQc32BX"
      },
      "outputs": [],
      "source": [
        "!python3 test.py < input-a.dat"
      ],
      "id": "_4AmKrQc32BX"
    },
    {
      "cell_type": "markdown",
      "source": [
        "### ♦networkxを使わない（隣接リスト→隣接行列）"
      ],
      "metadata": {
        "id": "sfx-T_Xc32BX"
      },
      "id": "sfx-T_Xc32BX"
    },
    {
      "cell_type": "markdown",
      "source": [
        "\n",
        "♦問題：[ALDS1_11_A](https://onlinejudge.u-aizu.ac.jp/courses/lesson/1/ALDS1/11/ALDS1_11_A) (Graph)"
      ],
      "metadata": {
        "id": "pZkNOugn32BX"
      },
      "id": "pZkNOugn32BX"
    },
    {
      "cell_type": "code",
      "execution_count": null,
      "metadata": {
        "id": "2WjwpI7y32BX"
      },
      "outputs": [],
      "source": [
        "%%writefile input-b.dat\n",
        "4\n",
        "1 2 2 4\n",
        "2 1 4\n",
        "3 0\n",
        "4 1 3"
      ],
      "id": "2WjwpI7y32BX"
    },
    {
      "cell_type": "code",
      "execution_count": null,
      "metadata": {
        "id": "GIFrMU-P32BX"
      },
      "outputs": [],
      "source": [
        "draw_pattern_b()"
      ],
      "id": "GIFrMU-P32BX"
    },
    {
      "cell_type": "code",
      "execution_count": null,
      "metadata": {
        "id": "HrbjUWdo32BX"
      },
      "outputs": [],
      "source": [
        "%%writefile test.py\n",
        "n = int(input())\n",
        "adj_matrix = [[0] * n for _ in range(n)]\n",
        "\n",
        "for _ in range(n):\n",
        "  u, k, *x = map(int, input().split())\n",
        "  for v in x: adj_matrix[u - 1][v - 1] = 1\n",
        "\n",
        "# データを読んで，隣接行列を更新する。\n",
        "\n",
        "for row in adj_matrix: print(*row)"
      ],
      "id": "HrbjUWdo32BX"
    },
    {
      "cell_type": "code",
      "source": [],
      "metadata": {
        "id": "nAaanbHqKRan"
      },
      "id": "nAaanbHqKRan",
      "execution_count": null,
      "outputs": []
    },
    {
      "cell_type": "code",
      "execution_count": null,
      "metadata": {
        "id": "GerLMH9X32BY"
      },
      "outputs": [],
      "source": [
        "!python3 test.py < input-b.dat"
      ],
      "id": "GerLMH9X32BY"
    },
    {
      "cell_type": "markdown",
      "source": [
        "## 深さ優先探索"
      ],
      "metadata": {
        "id": "ZJOJD85Y32BY"
      },
      "id": "ZJOJD85Y32BY"
    },
    {
      "cell_type": "markdown",
      "source": [
        "\n",
        "アルゴリズム図鑑\n",
        "\n",
        "ライブラリの使い方を確認する。"
      ],
      "metadata": {
        "id": "RxTR1iCM32BY"
      },
      "id": "RxTR1iCM32BY"
    },
    {
      "cell_type": "code",
      "execution_count": null,
      "metadata": {
        "id": "xSgUeThP32BY"
      },
      "outputs": [],
      "source": [
        "import networkx as nx\n",
        "\n",
        "G = nx.Graph()\n",
        "G.add_edges_from([\n",
        "    ('A', 'B'), ('A', 'C'),\n",
        "    ('B', 'E'), ('B', 'F'), ('C', 'H'),\n",
        "    ('E', 'K'), ('X', 'Z')])\n",
        "nx.draw(G, with_labels=True, node_color='greenyellow')"
      ],
      "id": "xSgUeThP32BY"
    },
    {
      "cell_type": "markdown",
      "source": [
        "深さ優先探索（その1）"
      ],
      "metadata": {
        "id": "IOICeTWn32BY"
      },
      "id": "IOICeTWn32BY"
    },
    {
      "cell_type": "code",
      "execution_count": null,
      "metadata": {
        "id": "a0qT3tZc32BY"
      },
      "outputs": [],
      "source": [
        "list(nx.dfs_edges(G, source='A'))"
      ],
      "id": "a0qT3tZc32BY"
    },
    {
      "cell_type": "markdown",
      "source": [
        "深さ優先探索（その2）"
      ],
      "metadata": {
        "id": "UsHOqEbm32BY"
      },
      "id": "UsHOqEbm32BY"
    },
    {
      "cell_type": "code",
      "execution_count": null,
      "metadata": {
        "id": "VBlLZHmR32BY"
      },
      "outputs": [],
      "source": [
        "list(nx.dfs_preorder_nodes(G, source='A'))"
      ],
      "id": "VBlLZHmR32BY"
    },
    {
      "cell_type": "markdown",
      "source": [
        "### ♥networkxを使う"
      ],
      "metadata": {
        "id": "sqFGrKdE32BZ"
      },
      "id": "sqFGrKdE32BZ"
    },
    {
      "cell_type": "markdown",
      "source": [
        "\n",
        "♥問題：[A62 - Depth First Search](https://atcoder.jp/contests/tessoku-book/tasks/math_and_algorithm_am)"
      ],
      "metadata": {
        "id": "xbDIK6OW32Bf"
      },
      "id": "xbDIK6OW32Bf"
    },
    {
      "cell_type": "code",
      "execution_count": null,
      "metadata": {
        "id": "LzRh33dt32Bf"
      },
      "outputs": [],
      "source": [
        "%%writefile input-a.dat\n",
        "6 6\n",
        "1 4\n",
        "2 3\n",
        "3 4\n",
        "5 6\n",
        "1 2\n",
        "2 4"
      ],
      "id": "LzRh33dt32Bf"
    },
    {
      "cell_type": "code",
      "execution_count": null,
      "metadata": {
        "id": "o93R4Orx32Bg"
      },
      "outputs": [],
      "source": [
        "draw_pattern_a()"
      ],
      "id": "o93R4Orx32Bg"
    },
    {
      "cell_type": "markdown",
      "source": [
        "#### 方法1（連結かどうかを調べる）"
      ],
      "metadata": {
        "id": "n0hVgA9-32Bg"
      },
      "id": "n0hVgA9-32Bg"
    },
    {
      "cell_type": "markdown",
      "source": [
        "\n",
        "グラフが連結かどうかを`nx.is_connected`で調べる。"
      ],
      "metadata": {
        "id": "Tv-MOoA032Bg"
      },
      "id": "Tv-MOoA032Bg"
    },
    {
      "cell_type": "code",
      "execution_count": null,
      "metadata": {
        "id": "4c013czt32Bg"
      },
      "outputs": [],
      "source": [
        "%%writefile test.py\n",
        "import networkx as nx\n",
        "\n",
        "# 無向グラフを作る。\n",
        "n, m = map(int, input().split())\n",
        "G = nx.Graph()\n",
        "G.add_nodes_from(range(1, n + 1))\n",
        "for _ in range(m):\n",
        "  u, v = map(int, input().split())\n",
        "  G.add_edge(u, v)\n",
        "\n",
        "if nx.is_connected(G): print(\"The graph is connected.\")\n",
        "else: print(\"The graph is not connected.\")"
      ],
      "id": "4c013czt32Bg"
    },
    {
      "cell_type": "code",
      "execution_count": null,
      "metadata": {
        "id": "IO5zH_Lc32Bg"
      },
      "outputs": [],
      "source": [
        "!python3 test.py < input-a.dat"
      ],
      "id": "IO5zH_Lc32Bg"
    },
    {
      "cell_type": "markdown",
      "source": [
        "#### 方法2（深さ優先探索）"
      ],
      "metadata": {
        "id": "KPsRDx-a32Bg"
      },
      "id": "KPsRDx-a32Bg"
    },
    {
      "cell_type": "markdown",
      "source": [
        "\n",
        "深さ優先探索を`nx.dfs_preorder_nodes`で行い，全ノードを訪問できるかどうかを調べる。"
      ],
      "metadata": {
        "id": "ofXkuhTO32Bh"
      },
      "id": "ofXkuhTO32Bh"
    },
    {
      "cell_type": "code",
      "execution_count": 1,
      "metadata": {
        "colab": {
          "base_uri": "https://localhost:8080/"
        },
        "id": "y2EjE0G032Bh",
        "outputId": "cd7a7917-bc01-496b-a88a-fc77b418e5ee"
      },
      "outputs": [
        {
          "output_type": "stream",
          "name": "stdout",
          "text": [
            "Writing test.py\n"
          ]
        }
      ],
      "source": [
        "%%writefile test.py\n",
        "import networkx as nx\n",
        "\n",
        "# 無向グラフを作る。\n",
        "n, m = map(int, input().split())\n",
        "G = nx.Graph()\n",
        "G.add_nodes_from(range(1, n + 1))\n",
        "for _ in range(m):\n",
        "  u, v = map(int, input().split())\n",
        "  G.add_edge(u, v)\n",
        "\n",
        "result = list(nx.dfs_preorder_nodes(G, source=1))\n",
        "if len(result) == n: print(\"The graph is connected.\")\n",
        "else: print(\"The graph is not connected.\")"
      ],
      "id": "y2EjE0G032Bh"
    },
    {
      "cell_type": "code",
      "execution_count": null,
      "metadata": {
        "id": "lzlXXnHR32Bh"
      },
      "outputs": [],
      "source": [
        "!python3 test.py < input-a.dat"
      ],
      "id": "lzlXXnHR32Bh"
    },
    {
      "cell_type": "markdown",
      "source": [
        "### ♦networkxを使わない"
      ],
      "metadata": {
        "id": "wseZH4Y_32Bh"
      },
      "id": "wseZH4Y_32Bh"
    },
    {
      "cell_type": "markdown",
      "source": [
        "\n",
        "♦問題：[ALDS1_11_B](https://onlinejudge.u-aizu.ac.jp/courses/lesson/1/ALDS1/11/ALDS1_11_B) (Depth First Search)"
      ],
      "metadata": {
        "id": "kvxhkt8W32Bh"
      },
      "id": "kvxhkt8W32Bh"
    },
    {
      "cell_type": "code",
      "execution_count": null,
      "metadata": {
        "id": "Y0ozlj7n32Bh"
      },
      "outputs": [],
      "source": [
        "%%writefile input-b.dat\n",
        "6\n",
        "1 2 2 3\n",
        "2 2 3 4\n",
        "3 1 5\n",
        "4 1 6\n",
        "5 1 6\n",
        "6 0"
      ],
      "id": "Y0ozlj7n32Bh"
    },
    {
      "cell_type": "code",
      "execution_count": null,
      "metadata": {
        "id": "_Dn7Ct4o32Bi"
      },
      "outputs": [],
      "source": [
        "draw_pattern_b()"
      ],
      "id": "_Dn7Ct4o32Bi"
    },
    {
      "cell_type": "markdown",
      "source": [
        "この可視化結果を見ながら，紙とペンで出力を再現してみよう。\n",
        "\n",
        "ここでは，スタックを使う実装は割愛し，再帰を使う実装のみを示す。また，教科書では隣接行列を使っているが，ここでは隣接リストを使う（入力が隣接リストだから，それをそのまま使うのが簡単。計算量は $O(|V|^2)$ ではなく $O(|V|+|E|)$ となる。$|E|$ が大きくなれば同じこと）。"
      ],
      "metadata": {
        "id": "p_DZ092v32Bi"
      },
      "id": "p_DZ092v32Bi"
    },
    {
      "cell_type": "code",
      "execution_count": null,
      "metadata": {
        "id": "N5nomBZl32Bi"
      },
      "outputs": [],
      "source": [
        "%%writefile test.py\n",
        "n = int(input())\n",
        "adj_list = [None] + [[] for _ in range(n)] # 隣接リスト\n",
        "\n",
        "# 隣接リストを完成させる。\n",
        "for _ in range(n):\n",
        "  u, k, *v = map(int, input().split())\n",
        "  adj_list[u] = v\n",
        "\n",
        "# 深さ優先探索の定義\n",
        "def dfs(u, t):\n",
        "  if d[u] == 0:\n",
        "    d[u] = t ; t += 1 # 発見時刻を記録\n",
        "    for v in adj_list[u]: t = dfs(v, t + 1) # 再帰\n",
        "    f[u] = t ; t += 1 # 完了時刻を記録\n",
        "  # 未発見の場合\n",
        "    # 発見時刻を記録し，時刻を進める。\n",
        "    # 再帰\n",
        "    # 完了時刻を記録し，時刻を進める。\n",
        "  return t # 時刻を返す。\n",
        "\n",
        "# 深さ優先探索の実行（連結でない場合を考慮する）\n",
        "d = [None] + [0] * n # 発見時刻\n",
        "f = [None] + [0] * n # 完了時刻\n",
        "t = 1 # 時刻\n",
        "for u in range(1, n + 1): t = dfs(u, t)\n",
        "\n",
        "# 結果の表示\n",
        "for u in range(1, n + 1): print(u, d[u], f[u])"
      ],
      "id": "N5nomBZl32Bi"
    },
    {
      "cell_type": "code",
      "execution_count": null,
      "metadata": {
        "id": "HhpmoVFo32Bi"
      },
      "outputs": [],
      "source": [
        "!python3 test.py < input-b.dat"
      ],
      "id": "HhpmoVFo32Bi"
    },
    {
      "cell_type": "markdown",
      "source": [
        "## 幅優先探索"
      ],
      "metadata": {
        "id": "ggSvCa1d32Bi"
      },
      "id": "ggSvCa1d32Bi"
    },
    {
      "cell_type": "markdown",
      "source": [
        "\n",
        "アルゴリズム図鑑\n",
        "\n",
        "ライブラリの使い方を確認する。"
      ],
      "metadata": {
        "id": "sn5-Nj3P32Bi"
      },
      "id": "sn5-Nj3P32Bi"
    },
    {
      "cell_type": "code",
      "execution_count": 2,
      "metadata": {
        "colab": {
          "base_uri": "https://localhost:8080/",
          "height": 516
        },
        "id": "CTSqLCPK32Bj",
        "outputId": "7a660f4b-8b24-45a0-e1d0-6f8558cd9ada"
      },
      "outputs": [
        {
          "output_type": "display_data",
          "data": {
            "text/plain": [
              "<Figure size 640x480 with 1 Axes>"
            ],
            "image/png": "[encoded data removed]"
          },
          "metadata": {}
        }
      ],
      "source": [
        "import networkx as nx\n",
        "\n",
        "G = nx.Graph()\n",
        "G.add_edges_from([\n",
        "    ('A', 'B'), ('A', 'C'),\n",
        "    ('B', 'E'), ('B', 'F'), ('C', 'H'),\n",
        "    ('E', 'K'), ('X', 'Z')])\n",
        "nx.draw(G, with_labels=True, node_color='greenyellow')"
      ],
      "id": "CTSqLCPK32Bj"
    },
    {
      "cell_type": "markdown",
      "source": [
        "幅優先探索"
      ],
      "metadata": {
        "id": "U6IJHTPT32Bj"
      },
      "id": "U6IJHTPT32Bj"
    },
    {
      "cell_type": "code",
      "execution_count": null,
      "metadata": {
        "id": "w9nm7cmv32Bj"
      },
      "outputs": [],
      "source": [
        "list(nx.bfs_edges(G, 'A'))"
      ],
      "id": "w9nm7cmv32Bj"
    },
    {
      "cell_type": "markdown",
      "source": [
        "幅優先探索を応用して最短経路長を求める。"
      ],
      "metadata": {
        "id": "RIhr8cET32Bj"
      },
      "id": "RIhr8cET32Bj"
    },
    {
      "cell_type": "code",
      "execution_count": null,
      "metadata": {
        "id": "23O37e7_32Bj"
      },
      "outputs": [],
      "source": [
        "nx.single_source_shortest_path_length(G, 'A')"
      ],
      "id": "23O37e7_32Bj"
    },
    {
      "cell_type": "markdown",
      "source": [
        "### ♥networkxを使う"
      ],
      "metadata": {
        "id": "pCURHBtj32Bj"
      },
      "id": "pCURHBtj32Bj"
    },
    {
      "cell_type": "markdown",
      "source": [
        "\n",
        "♥問題：[A63 - Shortest Path 1](https://atcoder.jp/contests/tessoku-book/tasks/math_and_algorithm_an)"
      ],
      "metadata": {
        "id": "WBN5-EQr32Bk"
      },
      "id": "WBN5-EQr32Bk"
    },
    {
      "cell_type": "code",
      "execution_count": null,
      "metadata": {
        "id": "oUxVhHcM32Bk"
      },
      "outputs": [],
      "source": [
        "%%writefile input-a.dat\n",
        "6 6\n",
        "1 4\n",
        "2 3\n",
        "3 4\n",
        "5 6\n",
        "1 2\n",
        "2 4"
      ],
      "id": "oUxVhHcM32Bk"
    },
    {
      "cell_type": "code",
      "execution_count": null,
      "metadata": {
        "id": "60naNfzd32Bk"
      },
      "outputs": [],
      "source": [
        "draw_pattern_a()"
      ],
      "id": "60naNfzd32Bk"
    },
    {
      "cell_type": "markdown",
      "source": [
        "#### 方法1（最短経路）"
      ],
      "metadata": {
        "id": "TyT-1fry32Bk"
      },
      "id": "TyT-1fry32Bk"
    },
    {
      "cell_type": "markdown",
      "source": [
        "\n",
        "指定したノードからの，グラフの全てのノードへの最短経路長を`nx.single_source_shortest_path_length`で求める。"
      ],
      "metadata": {
        "id": "Owe7gv7U32Bk"
      },
      "id": "Owe7gv7U32Bk"
    },
    {
      "cell_type": "code",
      "execution_count": null,
      "metadata": {
        "id": "J085pus232Bk"
      },
      "outputs": [],
      "source": [
        "%%writefile test.py\n",
        "import networkx as nx\n",
        "\n",
        "# 無向グラフを作る。\n",
        "n, m = map(int, input().split())\n",
        "G = nx.Graph()\n",
        "G.add_nodes_from(range(1, n + 1))\n",
        "for _ in range(m):\n",
        "  u, v = map(int, input().split())\n",
        "  G.add_edge(u, v)\n",
        "\n",
        "result = nx.single_source_shortest_path_length(G, 1) # 最短経路長\n",
        "\n",
        "for u in range(1, n + 1):\n",
        "  if u in result: print(result[u])\n",
        "  else: print(-1)"
      ],
      "id": "J085pus232Bk"
    },
    {
      "cell_type": "code",
      "execution_count": null,
      "metadata": {
        "id": "BMk5N96132Bl"
      },
      "outputs": [],
      "source": [
        "!python3 test.py < input-a.dat"
      ],
      "id": "BMk5N96132Bl"
    },
    {
      "cell_type": "markdown",
      "source": [
        "#### 方法2（幅優先探索）"
      ],
      "metadata": {
        "id": "-FBrmqBf32Bl"
      },
      "id": "-FBrmqBf32Bl"
    },
    {
      "cell_type": "markdown",
      "source": [
        "\n",
        "幅優先探索のためのエッジを`nx.bfs_edges`で取得し，それを使って最短経路長を求める。"
      ],
      "metadata": {
        "id": "sHjl3hRS32Bl"
      },
      "id": "sHjl3hRS32Bl"
    },
    {
      "cell_type": "code",
      "execution_count": 3,
      "metadata": {
        "colab": {
          "base_uri": "https://localhost:8080/"
        },
        "id": "q6PU4A-I32Bl",
        "outputId": "69e20c9f-1155-4c54-f09e-fe2067ddf98e"
      },
      "outputs": [
        {
          "output_type": "stream",
          "name": "stdout",
          "text": [
            "Overwriting test.py\n"
          ]
        }
      ],
      "source": [
        "%%writefile test.py\n",
        "import networkx as nx\n",
        "\n",
        "# 無向グラフを作る。\n",
        "n, m = map(int, input().split())\n",
        "G = nx.Graph()\n",
        "G.add_nodes_from(range(1, n + 1))\n",
        "for _ in range(m):\n",
        "  u, v = map(int, input().split())\n",
        "  G.add_edge(u, v)\n",
        "\n",
        "d = [None] + [-1] * n # 距離を記録するリスト（到達できないノードは-1）\n",
        "d[1] = 0\n",
        "\n",
        "for parent, child in nx.bfs_edges(G, 1): # 幅優先探索\n",
        "  d[child] = d[parent] + 1\n",
        "\n",
        "for u in range(1, n + 1): print(d[u])"
      ],
      "id": "q6PU4A-I32Bl"
    },
    {
      "cell_type": "code",
      "execution_count": null,
      "metadata": {
        "id": "iwSVlq2Y32Bl"
      },
      "outputs": [],
      "source": [
        "!python3 test.py < input-a.dat"
      ],
      "id": "iwSVlq2Y32Bl"
    },
    {
      "cell_type": "markdown",
      "source": [
        "### ♦networkxを使わない"
      ],
      "metadata": {
        "id": "4AD9FwPR32Bl"
      },
      "id": "4AD9FwPR32Bl"
    },
    {
      "cell_type": "markdown",
      "source": [
        "\n",
        "♦問題：[ALDS1_11_C](https://onlinejudge.u-aizu.ac.jp/courses/lesson/1/ALDS1/11/ALDS1_11_C) (Breadth First Search)"
      ],
      "metadata": {
        "id": "U3OQrtqV32Bm"
      },
      "id": "U3OQrtqV32Bm"
    },
    {
      "cell_type": "code",
      "execution_count": null,
      "metadata": {
        "id": "KkCHP3Jc32Bm"
      },
      "outputs": [],
      "source": [
        "%%writefile input-b.dat\n",
        "4\n",
        "1 2 2 4\n",
        "2 1 4\n",
        "3 0\n",
        "4 1 3"
      ],
      "id": "KkCHP3Jc32Bm"
    },
    {
      "cell_type": "code",
      "execution_count": null,
      "metadata": {
        "id": "gAJDc5a332Bm"
      },
      "outputs": [],
      "source": [
        "draw_pattern_b()"
      ],
      "id": "gAJDc5a332Bm"
    },
    {
      "cell_type": "code",
      "execution_count": 4,
      "metadata": {
        "colab": {
          "base_uri": "https://localhost:8080/"
        },
        "id": "5Xnms-9S32Bm",
        "outputId": "0a4df7d7-2bd2-461b-a2eb-9e3e1ef6c1ff"
      },
      "outputs": [
        {
          "output_type": "stream",
          "name": "stdout",
          "text": [
            "Overwriting test.py\n"
          ]
        }
      ],
      "source": [
        "%%writefile test.py\n",
        "n = int(input())\n",
        "adj_list = [None] + [[] for _ in range(n)] # 隣接リスト\n",
        "\n",
        "# 隣接リストを完成させる。\n",
        "for _ in range(n):\n",
        "  u, k, *v = map(int, input().split())\n",
        "  adj_list[u] = v\n",
        "\n",
        "from collections import deque\n",
        "\n",
        "d = [None] + [-1] * n # 距離を記録するリスト（到達できないノードは-1）\n",
        "d[1] = 0\n",
        "\n",
        "# 幅優先探索\n",
        "# キューにノード1を入れる。\n",
        "# キューが空でない間は繰り返す。\n",
        "  # キューからノードを取り出す。\n",
        "  # ノードから行けるノードに対して\n",
        "    # 未探索なら\n",
        "    # 距離を更新して\n",
        "    # キューに入れる\n",
        "\n",
        "for u in range(1, n + 1): print(u, d[u])"
      ],
      "id": "5Xnms-9S32Bm"
    },
    {
      "cell_type": "code",
      "execution_count": null,
      "metadata": {
        "id": "KomQft0n32Bm"
      },
      "outputs": [],
      "source": [
        "!python3 test.py < input-b.dat"
      ],
      "id": "KomQft0n32Bm"
    },
    {
      "cell_type": "markdown",
      "source": [
        "## ♠連結成分"
      ],
      "metadata": {
        "id": "VhFCzsoI32Bm"
      },
      "id": "VhFCzsoI32Bm"
    },
    {
      "cell_type": "markdown",
      "source": [],
      "metadata": {
        "id": "Ijif2mOM32Bn"
      },
      "id": "Ijif2mOM32Bn"
    },
    {
      "cell_type": "markdown",
      "source": [
        "### ♥networkxを使う"
      ],
      "metadata": {
        "id": "f-c2rVnv32Bn"
      },
      "id": "f-c2rVnv32Bn"
    },
    {
      "cell_type": "markdown",
      "source": [
        "\n",
        "♠♥問題：[A66 - Connect Query](https://atcoder.jp/contests/tessoku-book/tasks/tessoku_book_bn)"
      ],
      "metadata": {
        "id": "IvTix-mJ32Bn"
      },
      "id": "IvTix-mJ32Bn"
    },
    {
      "cell_type": "code",
      "execution_count": 5,
      "metadata": {
        "colab": {
          "base_uri": "https://localhost:8080/"
        },
        "id": "MJskRU1W32Bn",
        "outputId": "f523e25d-56a4-4cca-9c54-c4d5872aeb10"
      },
      "outputs": [
        {
          "output_type": "stream",
          "name": "stdout",
          "text": [
            "Writing input-c.dat\n"
          ]
        }
      ],
      "source": [
        "%%writefile input-c.dat\n",
        "3 4\n",
        "1 1 2\n",
        "2 1 3\n",
        "1 2 3\n",
        "2 2 3"
      ],
      "id": "MJskRU1W32Bn"
    },
    {
      "cell_type": "code",
      "execution_count": 6,
      "metadata": {
        "colab": {
          "base_uri": "https://localhost:8080/",
          "height": 141
        },
        "id": "ei6Xrpqh32Bn",
        "outputId": "d06818e5-a251-4ee4-8f03-d84dd7caa4d0"
      },
      "outputs": [
        {
          "output_type": "error",
          "ename": "NameError",
          "evalue": "name 'draw_pattern_c' is not defined",
          "traceback": [
            "\u001b[0;31m---------------------------------------------------------------------------\u001b[0m",
            "\u001b[0;31mNameError\u001b[0m                                 Traceback (most recent call last)",
            "\u001b[0;32m/tmp/ipython-input-6-1220197846.py\u001b[0m in \u001b[0;36m<cell line: 0>\u001b[0;34m()\u001b[0m\n\u001b[0;32m----> 1\u001b[0;31m \u001b[0mdraw_pattern_c\u001b[0m\u001b[0;34m(\u001b[0m\u001b[0;34m)\u001b[0m\u001b[0;34m\u001b[0m\u001b[0;34m\u001b[0m\u001b[0m\n\u001b[0m",
            "\u001b[0;31mNameError\u001b[0m: name 'draw_pattern_c' is not defined"
          ]
        }
      ],
      "source": [
        "draw_pattern_c()"
      ],
      "id": "ei6Xrpqh32Bn"
    },
    {
      "cell_type": "markdown",
      "source": [
        "Union-Find（森を使って連結成分を管理する方法）を使う。"
      ],
      "metadata": {
        "id": "O0vJPhCo32Bo"
      },
      "id": "O0vJPhCo32Bo"
    },
    {
      "cell_type": "code",
      "execution_count": null,
      "metadata": {
        "id": "CYSCh18l32Bo"
      },
      "outputs": [],
      "source": [
        "%%writefile test.py\n",
        "import networkx as nx\n",
        "\n",
        "n, q = map(int, input().split())\n",
        "uf = nx.utils.UnionFind(range(1, n + 1))\n",
        "\n",
        "for _ in range(q):\n",
        "  t, u, v = map(int, input().split())\n",
        "  if t == 1: uf.union(u, v)\n",
        "  elif uf[u] == uf[v]: print('Yes')\n",
        "  else: print('No')"
      ],
      "id": "CYSCh18l32Bo"
    },
    {
      "cell_type": "code",
      "execution_count": null,
      "metadata": {
        "id": "o5NvkZ5f32Bo"
      },
      "outputs": [],
      "source": [
        "!python3 test.py < input-c.dat"
      ],
      "id": "o5NvkZ5f32Bo"
    },
    {
      "cell_type": "markdown",
      "source": [
        "### ♦networkxを使わない"
      ],
      "metadata": {
        "id": "Q8LRFbKD32Bo"
      },
      "id": "Q8LRFbKD32Bo"
    },
    {
      "cell_type": "markdown",
      "source": [
        "\n",
        "♠♦問題：[ALDS1_11_D](https://onlinejudge.u-aizu.ac.jp/courses/lesson/1/ALDS1/11/ALDS1_11_D) (Connected Components)"
      ],
      "metadata": {
        "id": "6UKTeWcK32Bo"
      },
      "id": "6UKTeWcK32Bo"
    },
    {
      "cell_type": "code",
      "execution_count": null,
      "metadata": {
        "id": "Uy_cH5QZ32Bo"
      },
      "outputs": [],
      "source": [
        "%%writefile input-d.dat\n",
        "10 9\n",
        "0 1\n",
        "0 2\n",
        "3 4\n",
        "5 7\n",
        "5 6\n",
        "6 7\n",
        "6 8\n",
        "7 8\n",
        "8 9\n",
        "3\n",
        "0 1\n",
        "5 9\n",
        "1 3"
      ],
      "id": "Uy_cH5QZ32Bo"
    },
    {
      "cell_type": "code",
      "execution_count": null,
      "metadata": {
        "id": "lq-4MDjV32Bp"
      },
      "outputs": [],
      "source": [
        "draw_pattern_d()"
      ],
      "id": "lq-4MDjV32Bp"
    },
    {
      "cell_type": "code",
      "execution_count": null,
      "metadata": {
        "id": "NvUgWKK932Bp"
      },
      "outputs": [],
      "source": [
        "%%writefile test.py\n",
        "import sys\n",
        "sys.setrecursionlimit(110000) # 再帰の回数の上限を増やしておく。\n",
        "\n",
        "# グラフの構築\n",
        "n, m = map(int, input().split())\n",
        "adj_list = [[] for _ in range(n)]\n",
        "\n",
        "for _ in range(m):\n",
        "  u, v = map(int, input().split())\n",
        "  adj_list[u].append(v)\n",
        "  adj_list[v].append(u) # 反対も必要\n",
        "\n",
        "# 深さ優先探索で到達できるノードのcolorをidにする関数\n",
        "def dfs(a, id):\n",
        "  # 未探索（colorがNone）なら\n",
        "    # 色をつけて\n",
        "    # 再帰的に探索する。\n",
        "\n",
        "# 色分け\n",
        "color = [None] * n\n",
        "id = 0\n",
        "# 全てのノードに対して\n",
        "  # DFSで色を付ける。\n",
        "  # 色を変える。\n",
        "\n",
        "# 質問の処理\n",
        "q = int(input())\n",
        "for _ in range(q):\n",
        "  a, b = map(int, input().split())\n",
        "  if color[a] == color[b]: print('yes')\n",
        "  else: print('no')"
      ],
      "id": "NvUgWKK932Bp"
    },
    {
      "cell_type": "code",
      "execution_count": null,
      "metadata": {
        "id": "4kAjY-O132Bp"
      },
      "outputs": [],
      "source": [
        "!python3 test.py < input-d.dat"
      ],
      "id": "4kAjY-O132Bp"
    },
    {
      "cell_type": "markdown",
      "source": [
        "## 宿題"
      ],
      "metadata": {
        "id": "hKs3-BP532Bq"
      },
      "id": "hKs3-BP532Bq"
    },
    {
      "cell_type": "markdown",
      "source": [
        "\n",
        "networkxの使い方を学びたい（手軽）。\n",
        "\n",
        "-   ♥[A61 - Adjacent Vertices](https://atcoder.jp/contests/tessoku-book/tasks/tessoku_book_bi)\n",
        "-   ♠♥[B61 - Influencer](https://atcoder.jp/contests/tessoku-book/tasks/tessoku_book_eh)\n",
        "-   ♥[A62 - Depth First Search](https://atcoder.jp/contests/tessoku-book/tasks/math_and_algorithm_am)\n",
        "-   ♥[A63 - Shortest Path 1](https://atcoder.jp/contests/tessoku-book/tasks/math_and_algorithm_an)\n",
        "-   ♠♥[A66 - Connect Query](https://atcoder.jp/contests/tessoku-book/tasks/tessoku_book_bn)\n",
        "\n",
        "アルゴリズムを自分で実装したい。\n",
        "\n",
        "-   ♦[ALDS1_11_A](https://onlinejudge.u-aizu.ac.jp/courses/lesson/1/ALDS1/11/ALDS1_11_A) (Graph)\n",
        "-   ♦[ALDS1_11_B](https://onlinejudge.u-aizu.ac.jp/courses/lesson/1/ALDS1/11/ALDS1_11_B) (Depth First Search)\n",
        "-   ♦[ALDS1_11_C](https://onlinejudge.u-aizu.ac.jp/courses/lesson/1/ALDS1/11/ALDS1_11_C) (Breadth First Search)\n",
        "-   ♠♦[ALDS1_11_D](https://onlinejudge.u-aizu.ac.jp/courses/lesson/1/ALDS1/11/ALDS1_11_D) (Connected Components)\n",
        "\n",
        "以上"
      ],
      "metadata": {
        "id": "qNq2iruy32Bq"
      },
      "id": "qNq2iruy32Bq"
    }
  ],
  "nbformat": 4,
  "nbformat_minor": 5,
  "metadata": {
    "colab": {
      "provenance": [],
      "toc_visible": true
    },
    "language_info": {
      "name": "python"
    },
    "kernelspec": {
      "name": "python3",
      "display_name": "Python 3"
    }
  }
}